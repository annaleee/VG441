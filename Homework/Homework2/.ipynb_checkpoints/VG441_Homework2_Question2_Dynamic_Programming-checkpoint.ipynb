{
 "cells": [
  {
   "cell_type": "code",
   "execution_count": 3,
   "id": "6de6b173",
   "metadata": {},
   "outputs": [
    {
     "name": "stdout",
     "output_type": "stream",
     "text": [
      "{108,112,123,129,147,150,156,174,189,197,202,207,228,240,242,241,266,267,270,290,303,301,329,325,345,343,367,340,337,323,325,309,305,293,273,273,252,249,243,235,226,204,204,183,175,164,162,154,145,137,112,112,\n"
     ]
    }
   ],
   "source": [
    "import pandas as pd\n",
    "data=pd.read_excel(\"demand.xlsx\")\n",
    "data['order']=0\n",
    "edge=[]\n",
    "string=\"{\"\n",
    "h=\"{\"\n",
    "h=\"{\"\n",
    "for row in data.iterrows():\n",
    "    string+=str(row[1]['d_t'])+\",\"\n",
    "print(string)"
   ]
  },
  {
   "cell_type": "code",
   "execution_count": null,
   "id": "ce8fa4b4",
   "metadata": {},
   "outputs": [],
   "source": []
  }
 ],
 "metadata": {
  "kernelspec": {
   "display_name": "Python 3",
   "language": "python",
   "name": "python3"
  },
  "language_info": {
   "codemirror_mode": {
    "name": "ipython",
    "version": 3
   },
   "file_extension": ".py",
   "mimetype": "text/x-python",
   "name": "python",
   "nbconvert_exporter": "python",
   "pygments_lexer": "ipython3",
   "version": "3.8.8"
  }
 },
 "nbformat": 4,
 "nbformat_minor": 5
}
