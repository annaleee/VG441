{
 "cells": [
  {
   "cell_type": "code",
   "execution_count": 17,
   "metadata": {},
   "outputs": [],
   "source": [
    "from collections import defaultdict\n",
    "from heapq import *\n",
    "\n",
    "def dijkstra(edges, s, t):      #source node s and sink node t\n",
    "    \n",
    "    g = defaultdict(list)\n",
    "    for l,r,edge_cost in edges:\n",
    "        g[l].append((edge_cost,r))\n",
    "\n",
    "    queue = [(0,s,())]     #priority queue  \n",
    "    seen = set()           #processed nodes  \n",
    "    mins = {s: 0}          #prev stored v and A[v]\n",
    "    \n",
    "    while queue:\n",
    "        (A_v,v,path) = heappop(queue)                  #pop the node v with least cost A[v]\n",
    "        seen.add(v)                                    #label this node as processed\n",
    "        path = (v, path) \n",
    "        if v == t: return (A_v, path)                  #output the shortest distance and path\n",
    "\n",
    "        for edge_cost, w in g.get(v, ()):           #get the neighbors of v from dict\n",
    "            if w in seen: continue                  #ignore w if it has been processed\n",
    "            prev = mins.get(w, None)\n",
    "            next = A_v + edge_cost\n",
    "            if prev is None or next < prev:         #update A[w] using Dijkstra's greedy criterion\n",
    "                mins[w] = next\n",
    "                heappush(queue, (next, w, path))\n",
    "    return float(\"inf\")"
   ]
  },
  {
   "cell_type": "code",
   "execution_count": 21,
   "metadata": {},
   "outputs": [
    {
     "name": "stdout",
     "output_type": "stream",
     "text": [
      "Dijkstra's shorest path from 's' to 'c' is\n",
      "(6, ('c', ('b', ('a', ('s', ())))))\n"
     ]
    }
   ],
   "source": [
    "edges = [\n",
    "        (\"s\", \"a\", 1),\n",
    "        (\"s\", \"b\", 4),\n",
    "        (\"a\", \"b\", 2),\n",
    "        (\"a\", \"c\", 6),\n",
    "        (\"b\", \"c\", 3)\n",
    "        ]\n",
    "print(\"Dijkstra's shorest path from 's' to 'c' is\")\n",
    "print(dijkstra(edges, \"s\", \"c\"))"
   ]
  },
  {
   "cell_type": "code",
   "execution_count": 1,
   "metadata": {},
   "outputs": [],
   "source": [
    "import pandas as pd\n"
   ]
  },
  {
   "cell_type": "code",
   "execution_count": 54,
   "metadata": {},
   "outputs": [],
   "source": [
    "data=pd.read_excel(\"demand.xlsx\")\n",
    "data['order']=0\n",
    "edge=[]\n",
    "for row in data.iterrows():\n",
    "    if row[1]['t']<2:\n",
    "        continue\n",
    "    for i in range(1,row[1]['t']):\n",
    "        value=1100\n",
    "        for n in range(i+1,row[1]['t']):\n",
    "            value+=2.4*data.iloc[n-1]['d_t']*(n-i)\n",
    "        edge.append((i,row[1]['t'],value))\n",
    "for i in range(1,53):\n",
    "        value=1100\n",
    "        for n in range(i+1,53):\n",
    "            value+=2.4*data.iloc[n-1]['d_t']*(n-i)\n",
    "        edge.append((i,53,value))\n",
    "result1=dijkstra(edge, 1,53)\n",
    "        "
   ]
  },
  {
   "cell_type": "code",
   "execution_count": 86,
   "metadata": {},
   "outputs": [
    {
     "name": "stdout",
     "output_type": "stream",
     "text": [
      "the total cost is 42583.2\n",
      "[1, 4, 7, 9, 11, 13, 15, 17, 19, 21, 23, 25, 27, 29, 31, 33, 35, 37, 39, 41, 43, 45, 47, 50, 53]\n",
      "we order 343 units in period1\n",
      "we order 426 units in period4\n",
      "we order 330 units in period7\n",
      "we order 386 units in period9\n",
      "we order 409 units in period11\n",
      "we order 468 units in period13\n",
      "we order 483 units in period15\n",
      "we order 533 units in period17\n",
      "we order 560 units in period19\n",
      "we order 604 units in period21\n",
      "we order 654 units in period23\n",
      "we order 688 units in period25\n",
      "we order 707 units in period27\n",
      "we order 660 units in period29\n",
      "we order 634 units in period31\n",
      "we order 598 units in period33\n",
      "we order 546 units in period35\n",
      "we order 501 units in period37\n",
      "we order 478 units in period39\n",
      "we order 430 units in period41\n",
      "we order 387 units in period43\n",
      "we order 339 units in period45\n",
      "we order 461 units in period47\n",
      "we order 361 units in period50\n"
     ]
    }
   ],
   "source": [
    "result=result1\n",
    "Nodes=[]\n",
    "temp=0\n",
    "print(\"the total cost is \"+str(result[0]))\n",
    "while len(result[1])==2:\n",
    "    result=result[1]\n",
    "    temp=result[0]\n",
    "    Nodes.append(temp)\n",
    "Nodes.sort(key=None,reverse=False)\n",
    "print(Nodes)\n",
    "last=0\n",
    "for i in range(0,len(Nodes)-1):\n",
    "    order=0\n",
    "    for num in range(Nodes[i],Nodes[i+1]):\n",
    "        order+=data.iloc[num-1]['d_t']\n",
    "    print(\"we order \"+str(order)+\" units in period\" + str(Nodes[i]) )"
   ]
  },
  {
   "cell_type": "code",
   "execution_count": null,
   "metadata": {},
   "outputs": [],
   "source": []
  }
 ],
 "metadata": {
  "kernelspec": {
   "display_name": "Python 3",
   "language": "python",
   "name": "python3"
  },
  "language_info": {
   "codemirror_mode": {
    "name": "ipython",
    "version": 3
   },
   "file_extension": ".py",
   "mimetype": "text/x-python",
   "name": "python",
   "nbconvert_exporter": "python",
   "pygments_lexer": "ipython3",
   "version": "3.8.8"
  }
 },
 "nbformat": 4,
 "nbformat_minor": 2
}
