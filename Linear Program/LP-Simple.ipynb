{
 "cells": [
  {
   "cell_type": "code",
   "execution_count": 2,
   "metadata": {},
   "outputs": [
    {
     "ename": "ModuleNotFoundError",
     "evalue": "No module named 'gurobipy'",
     "output_type": "error",
     "traceback": [
      "\u001b[0;31m---------------------------------------------------------------------------\u001b[0m",
      "\u001b[0;31mModuleNotFoundError\u001b[0m                       Traceback (most recent call last)",
      "\u001b[0;32m<ipython-input-2-34c58902c324>\u001b[0m in \u001b[0;36m<module>\u001b[0;34m\u001b[0m\n\u001b[1;32m      1\u001b[0m \u001b[0;32mimport\u001b[0m \u001b[0mnumpy\u001b[0m \u001b[0;32mas\u001b[0m \u001b[0mnp\u001b[0m\u001b[0;34m\u001b[0m\u001b[0;34m\u001b[0m\u001b[0m\n\u001b[0;32m----> 2\u001b[0;31m \u001b[0;32mfrom\u001b[0m \u001b[0mgurobipy\u001b[0m \u001b[0;32mimport\u001b[0m \u001b[0;34m*\u001b[0m\u001b[0;34m\u001b[0m\u001b[0;34m\u001b[0m\u001b[0m\n\u001b[0m",
      "\u001b[0;31mModuleNotFoundError\u001b[0m: No module named 'gurobipy'"
     ]
    }
   ],
   "source": [
    "import numpy as np\n",
    "from gurobipy import *"
   ]
  },
  {
   "cell_type": "code",
   "execution_count": 2,
   "metadata": {},
   "outputs": [
    {
     "name": "stdout",
     "output_type": "stream",
     "text": [
      "Using license file C:\\Users\\Cong Shi\\gurobi.lic\n",
      "Academic license - for non-commercial use only\n"
     ]
    }
   ],
   "source": [
    "m = Model()"
   ]
  },
  {
   "cell_type": "code",
   "execution_count": 3,
   "metadata": {},
   "outputs": [],
   "source": [
    "x = m.addVars(2, lb=[0,0], vtype=GRB.CONTINUOUS, name=\"decision var\")\n",
    "\n",
    "m.setObjective(x[0]+x[1], GRB.MAXIMIZE)\n",
    "\n",
    "c1 = m.addConstr(4*x[0]+x[1]<=2)\n",
    "c2 = m.addConstr(x[0]+2*x[1]<=1)"
   ]
  },
  {
   "cell_type": "code",
   "execution_count": 4,
   "metadata": {},
   "outputs": [
    {
     "name": "stdout",
     "output_type": "stream",
     "text": [
      "Gurobi Optimizer version 9.0.2 build v9.0.2rc0 (win64)\n",
      "Optimize a model with 2 rows, 2 columns and 4 nonzeros\n",
      "Model fingerprint: 0xc71a44bc\n",
      "Coefficient statistics:\n",
      "  Matrix range     [1e+00, 4e+00]\n",
      "  Objective range  [1e+00, 1e+00]\n",
      "  Bounds range     [0e+00, 0e+00]\n",
      "  RHS range        [1e+00, 2e+00]\n",
      "Presolve time: 0.01s\n",
      "Presolved: 2 rows, 2 columns, 4 nonzeros\n",
      "\n",
      "Iteration    Objective       Primal Inf.    Dual Inf.      Time\n",
      "       0    1.5000000e+30   2.750000e+30   1.500000e+00      0s\n",
      "       2    7.1428571e-01   0.000000e+00   0.000000e+00      0s\n",
      "\n",
      "Solved in 2 iterations and 0.01 seconds\n",
      "Optimal objective  7.142857143e-01\n",
      "The optimal solution is\n",
      "\n",
      "    Variable            X \n",
      "-------------------------\n",
      "decision var[0]     0.428571 \n",
      "decision var[1]     0.285714 \n"
     ]
    }
   ],
   "source": [
    "m.optimize()\n",
    "print(\"The optimal solution is\")\n",
    "m.printAttr('X')"
   ]
  },
  {
   "cell_type": "code",
   "execution_count": 5,
   "metadata": {},
   "outputs": [],
   "source": [
    "#Wagner-Whitin Model...\n",
    "\n",
    "d = [90, 120, 80, 70]\n",
    "T, K, h = 4, 500, 2\n",
    "M = 10e5"
   ]
  },
  {
   "cell_type": "code",
   "execution_count": 6,
   "metadata": {},
   "outputs": [],
   "source": [
    "WW = Model()\n",
    "\n",
    "q = WW.addVars(T, lb=np.zeros(4), vtype=GRB.CONTINUOUS, name=\"order_quantity\")\n",
    "x = WW.addVars(T, lb=np.zeros(4), vtype=GRB.CONTINUOUS, name=\"inventory_level\")\n",
    "y = WW.addVars(T, vtype=GRB.BINARY, name=\"if_order\")\n",
    "\n",
    "WW.setObjective(quicksum(K*y[t]+h*x[t] for t in range(T)), GRB.MINIMIZE)\n",
    "\n",
    "c1 = WW.addConstrs(q[t] <= M*y[t] for t in range(T))\n",
    "c2 = WW.addConstrs(x[t] == x[t-1]+ q[t] - d[t] for t in range(1,T))\n",
    "c3 = WW.addConstr(x[0] == q[0] - d[0])"
   ]
  },
  {
   "cell_type": "code",
   "execution_count": 7,
   "metadata": {},
   "outputs": [
    {
     "name": "stdout",
     "output_type": "stream",
     "text": [
      "Gurobi Optimizer version 9.0.2 build v9.0.2rc0 (win64)\n",
      "Optimize a model with 8 rows, 12 columns and 19 nonzeros\n",
      "Model fingerprint: 0x4515f171\n",
      "Variable types: 8 continuous, 4 integer (4 binary)\n",
      "Coefficient statistics:\n",
      "  Matrix range     [1e+00, 1e+06]\n",
      "  Objective range  [2e+00, 5e+02]\n",
      "  Bounds range     [1e+00, 1e+00]\n",
      "  RHS range        [7e+01, 1e+02]\n",
      "Presolve removed 2 rows and 2 columns\n",
      "Presolve time: 0.00s\n",
      "Presolved: 6 rows, 10 columns, 15 nonzeros\n",
      "Variable types: 7 continuous, 3 integer (3 binary)\n",
      "\n",
      "Root relaxation: objective 5.001350e+02, 3 iterations, 0.00 seconds\n",
      "\n",
      "    Nodes    |    Current Node    |     Objective Bounds      |     Work\n",
      " Expl Unexpl |  Obj  Depth IntInf | Incumbent    BestBd   Gap | It/Node Time\n",
      "\n",
      "     0     0  500.13500    0    3          -  500.13500      -     -    0s\n",
      "H    0     0                    2000.0000000  500.13500  75.0%     -    0s\n",
      "H    0     0                    1480.0000000  500.13500  66.2%     -    0s\n",
      "     0     0 1124.96710    0    2 1480.00000 1124.96710  24.0%     -    0s\n",
      "H    0     0                    1380.0000000 1124.96710  18.5%     -    0s\n",
      "\n",
      "Cutting planes:\n",
      "  Implied bound: 5\n",
      "  Flow cover: 3\n",
      "\n",
      "Explored 1 nodes (8 simplex iterations) in 0.02 seconds\n",
      "Thread count was 8 (of 8 available processors)\n",
      "\n",
      "Solution count 3: 1380 1480 2000 \n",
      "\n",
      "Optimal solution found (tolerance 1.00e-04)\n",
      "Best objective 1.379999999990e+03, best bound 1.379999999990e+03, gap 0.0000%\n",
      "\n",
      "    Variable            X \n",
      "-------------------------\n",
      "order_quantity[0]          210 \n",
      "order_quantity[2]          150 \n",
      "inventory_level[0]          120 \n",
      "inventory_level[2]           70 \n",
      " if_order[0]            1 \n",
      " if_order[2]            1 \n"
     ]
    }
   ],
   "source": [
    "WW.optimize()\n",
    "WW.printAttr('X')"
   ]
  },
  {
   "cell_type": "code",
   "execution_count": null,
   "metadata": {},
   "outputs": [],
   "source": []
  }
 ],
 "metadata": {
  "kernelspec": {
   "display_name": "Python 3",
   "language": "python",
   "name": "python3"
  },
  "language_info": {
   "codemirror_mode": {
    "name": "ipython",
    "version": 3
   },
   "file_extension": ".py",
   "mimetype": "text/x-python",
   "name": "python",
   "nbconvert_exporter": "python",
   "pygments_lexer": "ipython3",
   "version": "3.8.8"
  }
 },
 "nbformat": 4,
 "nbformat_minor": 4
}
