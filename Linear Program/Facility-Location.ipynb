{
 "cells": [
  {
   "cell_type": "code",
   "execution_count": null,
   "metadata": {},
   "outputs": [],
   "source": [
    "#VG441 Facility Location Code\n",
    "import numpy as np\n",
    "import pandas as pd\n",
    "from gurobipy import *\n",
    "import math\n",
    "import matplotlib.pyplot as plt"
   ]
  },
  {
   "cell_type": "code",
   "execution_count": null,
   "metadata": {},
   "outputs": [],
   "source": [
    "#demand data\n",
    "demand=pd.read_csv('Demand.csv')\n",
    "max_amount=pd.read_csv('max_amount.csv')\n",
    "\n",
    "#location data\n",
    "sm=pd.read_csv('Supermarket Location.csv') #supermarket\n",
    "fa=pd.read_csv('Facilities Location.csv') #facility\n",
    "num_sm=len(sm)\n",
    "num_fa=len(fa)\n",
    "\n",
    "#cost data\n",
    "cost=pd.read_csv('cost.csv')\n",
    "base_charge=pd.read_csv('Charge.csv')\n",
    "charge=base_charge*10"
   ]
  },
  {
   "cell_type": "code",
   "execution_count": null,
   "metadata": {},
   "outputs": [],
   "source": [
    "def distance(a,b):\n",
    "    dx=a[0]-b[0]\n",
    "    dy=a[1]-b[1]\n",
    "    return math.sqrt(dx*dx+dy*dy)"
   ]
  },
  {
   "cell_type": "markdown",
   "metadata": {},
   "source": [
    "\\begin{array}{lll}\n",
    "\\operatorname{minimize} & \\sum_{j=1}^{m} f_{j} x_{j}+\\sum_{i=1}^{n} \\sum_{j=1}^{m} c_{i j} y_{i j} \\\\\n",
    "\\text { subject to: } & \\sum_{j=1}^{m} y_{i j}=d_{i} & \\text { for } i=1, \\cdots, n \\\\\n",
    "& \\sum_{i=1}^{n} y_{i j} \\leq M_{j} x_{j} & \\text { for } j=1, \\cdots, m \\\\\n",
    "& y_{i j} \\leq d_{i} x_{j} & \\text { for } i=1, \\cdots, n ; j=1, \\cdots, m \\\\\n",
    "& y_{i j} \\geq 0 & \\text { for } i=1, \\cdots, n ; j=1, \\cdots, m \\\\\n",
    "& x_{j} \\in\\{0,1\\} & \\text { for } j=1, \\cdots, m\n",
    "\\end{array}"
   ]
  },
  {
   "cell_type": "code",
   "execution_count": null,
   "metadata": {},
   "outputs": [],
   "source": [
    "m=Model()\n",
    "\n",
    "x={} # open this facility or not\n",
    "y={} # goods/services shipped from facility j to customer i\n",
    "d={} # distance measures\n",
    "\n",
    "for j in range(num_fa):\n",
    "    x[j]=m.addVar(vtype=GRB.BINARY,name=\"x%d\" %j)\n",
    "    \n",
    "for i in range(num_sm):\n",
    "    for j in range(num_fa):\n",
    "        y[i,j]=m.addVar(lb=0,vtype=GRB.CONTINUOUS,name=\"%d,%d\" % (i,j))\n",
    "        d[i,j]=distance(sm.iloc[i],fa.iloc[j])\n",
    "        \n",
    "# Add constraints\n",
    "for i in range(num_sm):\n",
    "    m.addConstr(quicksum(y[i,j] for j in range(num_fa))==demand.iloc[i]['Demand'])\n",
    "    \n",
    "for j in range(num_fa):\n",
    "    m.addConstr(quicksum(y[i,j]for i in range(num_sm))<= max_amount.iloc[j][\"Max\"]*x[j])\n",
    "    \n",
    "for i in range(num_sm):\n",
    "    for j in range(num_fa):\n",
    "        m.addConstr(y[i,j] <= demand.iloc[i]['Demand'] * x[j])\n",
    "\n",
    "# Objective function\n",
    "m.setObjective(quicksum(charge.iloc[j]['Charge']*x[j] + quicksum(d[i,j]*y[(i,j)] \n",
    "        for i in range(num_sm)) for j in range(num_fa)))\n",
    "\n",
    "m.update()\n",
    "m.optimize()"
   ]
  },
  {
   "cell_type": "code",
   "execution_count": null,
   "metadata": {
    "scrolled": false
   },
   "outputs": [],
   "source": [
    "# Show supermarket location \n",
    "v_sm=sm[\"SM_V\"]\n",
    "h_sm=sm[\"SM_H\"]\n",
    "fig, ax1= plt.subplots(nrows=1, ncols=1,figsize=(25, 25))\n",
    "e=ax1.scatter(x=h_sm, y=v_sm, marker='d', c='r', edgecolor='b', s=50)\n",
    "\n",
    "# show facilities location\n",
    "h_fa_use=[]\n",
    "h_fa_no=[]\n",
    "v_fa_use=[]\n",
    "v_fa_no=[]\n",
    "text=[]\n",
    "for j in range(num_fa):\n",
    "    if x[j].X==1:\n",
    "        h_fa_use.append(fa.iloc[j]['FA_H'])\n",
    "        v_fa_use.append(fa.iloc[j][\"FA_V\"])\n",
    "    if x[j].X!=1:\n",
    "        h_fa_no.append(fa.iloc[j]['FA_H'])\n",
    "        v_fa_no.append(fa.iloc[j][\"FA_V\"])\n",
    "a=ax1.scatter(x=h_fa_use, y=v_fa_use, marker='^', c='b', edgecolor='b', s=1200)\n",
    "s=ax1.scatter(x=h_fa_no, y=v_fa_no, marker='o', c='y', edgecolor='b', s=1200)\n",
    "ax1.legend([a,s,e],[\"Facility location will be used\",\n",
    "                    \"Facility location won't be used\",\n",
    "                    \"Location of Supermarket\"],\n",
    "            prop={'size': 26})\n",
    "\n",
    "totx=0\n",
    "for j in range(num_fa):\n",
    "    if x[j].X == 1:\n",
    "        totx= totx+1\n",
    "\n",
    "variable_name=[]\n",
    "for v in m.getVars():\n",
    "    if v.X!= 0:\n",
    "        variable_name.append('%s' % (v.varName))\n",
    "variable_name=variable_name[totx:]\n",
    "\n",
    "f=[]\n",
    "for i in range(len(variable_name)):\n",
    "    f.append(variable_name[i].split(\",\"))\n",
    "sm_location=[]\n",
    "fa_location=[]\n",
    "for i in range(len(f)):\n",
    "    sm_location.append(int(f[i][0]))\n",
    "    fa_location.append(int(f[i][1]))\n",
    "h_fa_tot=[]\n",
    "v_fa_tot=[]\n",
    "for j in range(num_fa):\n",
    "    h_fa_tot.append(fa.iloc[j]['FA_H'])\n",
    "    v_fa_tot.append(fa.iloc[j]['FA_V'])\n",
    "for i in range(len(sm_location)):\n",
    "    ax1.plot([h_sm[sm_location[i]],h_fa_tot[fa_location[i]]],[v_sm[sm_location[i]],v_fa_tot[fa_location[i]]])"
   ]
  }
 ],
 "metadata": {
  "kernelspec": {
   "display_name": "Python 3",
   "language": "python",
   "name": "python3"
  },
  "language_info": {
   "codemirror_mode": {
    "name": "ipython",
    "version": 3
   },
   "file_extension": ".py",
   "mimetype": "text/x-python",
   "name": "python",
   "nbconvert_exporter": "python",
   "pygments_lexer": "ipython3",
   "version": "3.7.9"
  }
 },
 "nbformat": 4,
 "nbformat_minor": 4
}
