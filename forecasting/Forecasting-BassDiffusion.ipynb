{
 "cells": [
  {
   "cell_type": "code",
   "execution_count": null,
   "metadata": {},
   "outputs": [],
   "source": [
    "import pandas as pd\n",
    "import numpy as np\n",
    "import matplotlib.pyplot as plt\n",
    "\n",
    "df = pd.read_csv('AppleSales.csv',index_col='Quarter',parse_dates=True)\n",
    "df.head()"
   ]
  },
  {
   "cell_type": "code",
   "execution_count": null,
   "metadata": {},
   "outputs": [],
   "source": [
    "isales = df.values"
   ]
  },
  {
   "cell_type": "code",
   "execution_count": null,
   "metadata": {},
   "outputs": [],
   "source": [
    "cum_isales = np.cumsum(isales)"
   ]
  },
  {
   "cell_type": "code",
   "execution_count": null,
   "metadata": {},
   "outputs": [],
   "source": [
    "cum_isales2 = cum_isales**2"
   ]
  },
  {
   "cell_type": "code",
   "execution_count": null,
   "metadata": {},
   "outputs": [],
   "source": [
    "import statsmodels.api as sm\n",
    "regressor = sm.add_constant(np.column_stack((cum_isales,cum_isales2)))\n",
    "\n",
    "from statsmodels.api import OLS\n",
    "model2 = OLS(isales, regressor).fit()\n",
    "model2.summary()"
   ]
  },
  {
   "cell_type": "code",
   "execution_count": null,
   "metadata": {},
   "outputs": [],
   "source": [
    "b = model2.params"
   ]
  },
  {
   "cell_type": "code",
   "execution_count": null,
   "metadata": {},
   "outputs": [],
   "source": [
    "m1 = (-b[1]+np.sqrt(b[1]**2-4*b[0]*b[2]))/(2*b[2])\n",
    "m2 = (-b[1]-np.sqrt(b[1]**2-4*b[0]*b[2]))/(2*b[2])\n",
    "m = max(m1,m2)\n",
    "p = b[0]/m\n",
    "q = -m*b[2]"
   ]
  },
  {
   "cell_type": "code",
   "execution_count": null,
   "metadata": {},
   "outputs": [],
   "source": [
    "print([m, p, q])"
   ]
  },
  {
   "cell_type": "code",
   "execution_count": null,
   "metadata": {},
   "outputs": [],
   "source": [
    "T = 100\n",
    "t = np.linspace(1,T,T)\n",
    "FF = m*p*(np.exp((p+q)*t)-1)/(p*np.exp((p+q)*t)+q)\n",
    "ff = np.diff(FF)\n",
    "\n",
    "fig, ax = plt.subplots()\n",
    "\n",
    "ax.plot(np.linspace(1,T,99),ff, label='Bass Forecast')\n",
    "ax.plot(np.linspace(1,len(isales),len(isales)),isales,'--', label='IPhone Sales')\n",
    "\n",
    "legend = ax.legend()\n",
    "ax.set_title('Apple Inc Sales')\n",
    "ax.set(xlabel='time', ylabel='Qty Units (MM)')\n",
    "\n",
    "plt.show()"
   ]
  }
 ],
 "metadata": {
  "kernelspec": {
   "display_name": "Python 3",
   "language": "python",
   "name": "python3"
  },
  "language_info": {
   "codemirror_mode": {
    "name": "ipython",
    "version": 3
   },
   "file_extension": ".py",
   "mimetype": "text/x-python",
   "name": "python",
   "nbconvert_exporter": "python",
   "pygments_lexer": "ipython3",
   "version": "3.7.0"
  }
 },
 "nbformat": 4,
 "nbformat_minor": 2
}
